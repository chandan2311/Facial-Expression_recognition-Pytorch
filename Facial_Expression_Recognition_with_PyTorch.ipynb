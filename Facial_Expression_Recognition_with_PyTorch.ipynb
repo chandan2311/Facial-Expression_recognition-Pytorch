{
  "nbformat": 4,
  "nbformat_minor": 0,
  "metadata": {
    "colab": {
      "provenance": [],
      "gpuType": "T4",
      "authorship_tag": "ABX9TyPmhxLTn0nJw+i5STIeCaHK",
      "include_colab_link": true
    },
    "kernelspec": {
      "name": "python3",
      "display_name": "Python 3"
    },
    "language_info": {
      "name": "python"
    },
    "accelerator": "GPU",
    "widgets": {
      "application/vnd.jupyter.widget-state+json": {
        "55e59fb282b94b93ac2e9978d6d708c1": {
          "model_module": "@jupyter-widgets/controls",
          "model_name": "HBoxModel",
          "model_module_version": "1.5.0",
          "state": {
            "_dom_classes": [],
            "_model_module": "@jupyter-widgets/controls",
            "_model_module_version": "1.5.0",
            "_model_name": "HBoxModel",
            "_view_count": null,
            "_view_module": "@jupyter-widgets/controls",
            "_view_module_version": "1.5.0",
            "_view_name": "HBoxView",
            "box_style": "",
            "children": [
              "IPY_MODEL_95c444a403c94e3d80f317b0a74b6ad1",
              "IPY_MODEL_fb8fd9a684f44e25a8b38fb7e626bf35",
              "IPY_MODEL_5c8de58d9d9a4ca3b8bf0094088b78e5"
            ],
            "layout": "IPY_MODEL_eec623dfe4bf469dbaa67effd257a02c"
          }
        },
        "95c444a403c94e3d80f317b0a74b6ad1": {
          "model_module": "@jupyter-widgets/controls",
          "model_name": "HTMLModel",
          "model_module_version": "1.5.0",
          "state": {
            "_dom_classes": [],
            "_model_module": "@jupyter-widgets/controls",
            "_model_module_version": "1.5.0",
            "_model_name": "HTMLModel",
            "_view_count": null,
            "_view_module": "@jupyter-widgets/controls",
            "_view_module_version": "1.5.0",
            "_view_name": "HTMLView",
            "description": "",
            "description_tooltip": null,
            "layout": "IPY_MODEL_c9b514d8bc19428e87ecc6239ec5d9df",
            "placeholder": "​",
            "style": "IPY_MODEL_3120f44e42e347bd931782022b5251f2",
            "value": "Downloading model.safetensors: 100%"
          }
        },
        "fb8fd9a684f44e25a8b38fb7e626bf35": {
          "model_module": "@jupyter-widgets/controls",
          "model_name": "FloatProgressModel",
          "model_module_version": "1.5.0",
          "state": {
            "_dom_classes": [],
            "_model_module": "@jupyter-widgets/controls",
            "_model_module_version": "1.5.0",
            "_model_name": "FloatProgressModel",
            "_view_count": null,
            "_view_module": "@jupyter-widgets/controls",
            "_view_module_version": "1.5.0",
            "_view_name": "ProgressView",
            "bar_style": "success",
            "description": "",
            "description_tooltip": null,
            "layout": "IPY_MODEL_f80f24ed5a574baba90c16f9ffaba9b4",
            "max": 21355344,
            "min": 0,
            "orientation": "horizontal",
            "style": "IPY_MODEL_3043b97e5ea84717aa642151806827a0",
            "value": 21355344
          }
        },
        "5c8de58d9d9a4ca3b8bf0094088b78e5": {
          "model_module": "@jupyter-widgets/controls",
          "model_name": "HTMLModel",
          "model_module_version": "1.5.0",
          "state": {
            "_dom_classes": [],
            "_model_module": "@jupyter-widgets/controls",
            "_model_module_version": "1.5.0",
            "_model_name": "HTMLModel",
            "_view_count": null,
            "_view_module": "@jupyter-widgets/controls",
            "_view_module_version": "1.5.0",
            "_view_name": "HTMLView",
            "description": "",
            "description_tooltip": null,
            "layout": "IPY_MODEL_5da0de2e95b2478f92cee0e1a7c11fc4",
            "placeholder": "​",
            "style": "IPY_MODEL_a65e9c2cae7e4a8f825917e7f883ee4b",
            "value": " 21.4M/21.4M [00:00&lt;00:00, 81.3MB/s]"
          }
        },
        "eec623dfe4bf469dbaa67effd257a02c": {
          "model_module": "@jupyter-widgets/base",
          "model_name": "LayoutModel",
          "model_module_version": "1.2.0",
          "state": {
            "_model_module": "@jupyter-widgets/base",
            "_model_module_version": "1.2.0",
            "_model_name": "LayoutModel",
            "_view_count": null,
            "_view_module": "@jupyter-widgets/base",
            "_view_module_version": "1.2.0",
            "_view_name": "LayoutView",
            "align_content": null,
            "align_items": null,
            "align_self": null,
            "border": null,
            "bottom": null,
            "display": null,
            "flex": null,
            "flex_flow": null,
            "grid_area": null,
            "grid_auto_columns": null,
            "grid_auto_flow": null,
            "grid_auto_rows": null,
            "grid_column": null,
            "grid_gap": null,
            "grid_row": null,
            "grid_template_areas": null,
            "grid_template_columns": null,
            "grid_template_rows": null,
            "height": null,
            "justify_content": null,
            "justify_items": null,
            "left": null,
            "margin": null,
            "max_height": null,
            "max_width": null,
            "min_height": null,
            "min_width": null,
            "object_fit": null,
            "object_position": null,
            "order": null,
            "overflow": null,
            "overflow_x": null,
            "overflow_y": null,
            "padding": null,
            "right": null,
            "top": null,
            "visibility": null,
            "width": null
          }
        },
        "c9b514d8bc19428e87ecc6239ec5d9df": {
          "model_module": "@jupyter-widgets/base",
          "model_name": "LayoutModel",
          "model_module_version": "1.2.0",
          "state": {
            "_model_module": "@jupyter-widgets/base",
            "_model_module_version": "1.2.0",
            "_model_name": "LayoutModel",
            "_view_count": null,
            "_view_module": "@jupyter-widgets/base",
            "_view_module_version": "1.2.0",
            "_view_name": "LayoutView",
            "align_content": null,
            "align_items": null,
            "align_self": null,
            "border": null,
            "bottom": null,
            "display": null,
            "flex": null,
            "flex_flow": null,
            "grid_area": null,
            "grid_auto_columns": null,
            "grid_auto_flow": null,
            "grid_auto_rows": null,
            "grid_column": null,
            "grid_gap": null,
            "grid_row": null,
            "grid_template_areas": null,
            "grid_template_columns": null,
            "grid_template_rows": null,
            "height": null,
            "justify_content": null,
            "justify_items": null,
            "left": null,
            "margin": null,
            "max_height": null,
            "max_width": null,
            "min_height": null,
            "min_width": null,
            "object_fit": null,
            "object_position": null,
            "order": null,
            "overflow": null,
            "overflow_x": null,
            "overflow_y": null,
            "padding": null,
            "right": null,
            "top": null,
            "visibility": null,
            "width": null
          }
        },
        "3120f44e42e347bd931782022b5251f2": {
          "model_module": "@jupyter-widgets/controls",
          "model_name": "DescriptionStyleModel",
          "model_module_version": "1.5.0",
          "state": {
            "_model_module": "@jupyter-widgets/controls",
            "_model_module_version": "1.5.0",
            "_model_name": "DescriptionStyleModel",
            "_view_count": null,
            "_view_module": "@jupyter-widgets/base",
            "_view_module_version": "1.2.0",
            "_view_name": "StyleView",
            "description_width": ""
          }
        },
        "f80f24ed5a574baba90c16f9ffaba9b4": {
          "model_module": "@jupyter-widgets/base",
          "model_name": "LayoutModel",
          "model_module_version": "1.2.0",
          "state": {
            "_model_module": "@jupyter-widgets/base",
            "_model_module_version": "1.2.0",
            "_model_name": "LayoutModel",
            "_view_count": null,
            "_view_module": "@jupyter-widgets/base",
            "_view_module_version": "1.2.0",
            "_view_name": "LayoutView",
            "align_content": null,
            "align_items": null,
            "align_self": null,
            "border": null,
            "bottom": null,
            "display": null,
            "flex": null,
            "flex_flow": null,
            "grid_area": null,
            "grid_auto_columns": null,
            "grid_auto_flow": null,
            "grid_auto_rows": null,
            "grid_column": null,
            "grid_gap": null,
            "grid_row": null,
            "grid_template_areas": null,
            "grid_template_columns": null,
            "grid_template_rows": null,
            "height": null,
            "justify_content": null,
            "justify_items": null,
            "left": null,
            "margin": null,
            "max_height": null,
            "max_width": null,
            "min_height": null,
            "min_width": null,
            "object_fit": null,
            "object_position": null,
            "order": null,
            "overflow": null,
            "overflow_x": null,
            "overflow_y": null,
            "padding": null,
            "right": null,
            "top": null,
            "visibility": null,
            "width": null
          }
        },
        "3043b97e5ea84717aa642151806827a0": {
          "model_module": "@jupyter-widgets/controls",
          "model_name": "ProgressStyleModel",
          "model_module_version": "1.5.0",
          "state": {
            "_model_module": "@jupyter-widgets/controls",
            "_model_module_version": "1.5.0",
            "_model_name": "ProgressStyleModel",
            "_view_count": null,
            "_view_module": "@jupyter-widgets/base",
            "_view_module_version": "1.2.0",
            "_view_name": "StyleView",
            "bar_color": null,
            "description_width": ""
          }
        },
        "5da0de2e95b2478f92cee0e1a7c11fc4": {
          "model_module": "@jupyter-widgets/base",
          "model_name": "LayoutModel",
          "model_module_version": "1.2.0",
          "state": {
            "_model_module": "@jupyter-widgets/base",
            "_model_module_version": "1.2.0",
            "_model_name": "LayoutModel",
            "_view_count": null,
            "_view_module": "@jupyter-widgets/base",
            "_view_module_version": "1.2.0",
            "_view_name": "LayoutView",
            "align_content": null,
            "align_items": null,
            "align_self": null,
            "border": null,
            "bottom": null,
            "display": null,
            "flex": null,
            "flex_flow": null,
            "grid_area": null,
            "grid_auto_columns": null,
            "grid_auto_flow": null,
            "grid_auto_rows": null,
            "grid_column": null,
            "grid_gap": null,
            "grid_row": null,
            "grid_template_areas": null,
            "grid_template_columns": null,
            "grid_template_rows": null,
            "height": null,
            "justify_content": null,
            "justify_items": null,
            "left": null,
            "margin": null,
            "max_height": null,
            "max_width": null,
            "min_height": null,
            "min_width": null,
            "object_fit": null,
            "object_position": null,
            "order": null,
            "overflow": null,
            "overflow_x": null,
            "overflow_y": null,
            "padding": null,
            "right": null,
            "top": null,
            "visibility": null,
            "width": null
          }
        },
        "a65e9c2cae7e4a8f825917e7f883ee4b": {
          "model_module": "@jupyter-widgets/controls",
          "model_name": "DescriptionStyleModel",
          "model_module_version": "1.5.0",
          "state": {
            "_model_module": "@jupyter-widgets/controls",
            "_model_module_version": "1.5.0",
            "_model_name": "DescriptionStyleModel",
            "_view_count": null,
            "_view_module": "@jupyter-widgets/base",
            "_view_module_version": "1.2.0",
            "_view_name": "StyleView",
            "description_width": ""
          }
        }
      }
    }
  },
  "cells": [
    {
      "cell_type": "markdown",
      "metadata": {
        "id": "view-in-github",
        "colab_type": "text"
      },
      "source": [
        "<a href=\"https://colab.research.google.com/github/chandan2311/Facial-Expression_recognition-Pytorch/blob/main/Facial_Expression_Recognition_with_PyTorch.ipynb\" target=\"_parent\"><img src=\"https://colab.research.google.com/assets/colab-badge.svg\" alt=\"Open In Colab\"/></a>"
      ]
    },
    {
      "cell_type": "code",
      "execution_count": null,
      "metadata": {
        "colab": {
          "base_uri": "https://localhost:8080/"
        },
        "id": "-B5eM5sQhFB1",
        "outputId": "d49b4b90-308a-495d-9156-5c77b6f00a89"
      },
      "outputs": [
        {
          "output_type": "stream",
          "name": "stdout",
          "text": [
            "Cloning into 'Facial-Expression-Dataset'...\n",
            "remote: Enumerating objects: 34052, done.\u001b[K\n",
            "remote: Total 34052 (delta 0), reused 0 (delta 0), pack-reused 34052\u001b[K\n",
            "Receiving objects: 100% (34052/34052), 52.31 MiB | 31.14 MiB/s, done.\n",
            "Resolving deltas: 100% (4/4), done.\n",
            "Updating files: 100% (35887/35887), done.\n",
            "Collecting git+https://github.com/albumentations-team/albumentations\n",
            "  Cloning https://github.com/albumentations-team/albumentations to /tmp/pip-req-build-gyarmc8t\n",
            "  Running command git clone --filter=blob:none --quiet https://github.com/albumentations-team/albumentations /tmp/pip-req-build-gyarmc8t\n",
            "  Resolved https://github.com/albumentations-team/albumentations to commit e3b47b3a127f92541cfeb16abbb44a6f8bf79cc8\n",
            "  Preparing metadata (setup.py) ... \u001b[?25l\u001b[?25hdone\n",
            "Requirement already satisfied: numpy>=1.11.1 in /usr/local/lib/python3.10/dist-packages (from albumentations==1.3.1) (1.23.5)\n",
            "Requirement already satisfied: scipy>=1.1.0 in /usr/local/lib/python3.10/dist-packages (from albumentations==1.3.1) (1.10.1)\n",
            "Requirement already satisfied: scikit-image>=0.16.1 in /usr/local/lib/python3.10/dist-packages (from albumentations==1.3.1) (0.19.3)\n",
            "Requirement already satisfied: PyYAML in /usr/local/lib/python3.10/dist-packages (from albumentations==1.3.1) (6.0.1)\n",
            "Requirement already satisfied: qudida>=0.0.4 in /usr/local/lib/python3.10/dist-packages (from albumentations==1.3.1) (0.0.4)\n",
            "Requirement already satisfied: opencv-python>=4.1.1 in /usr/local/lib/python3.10/dist-packages (from albumentations==1.3.1) (4.8.0.76)\n",
            "Requirement already satisfied: scikit-learn>=0.19.1 in /usr/local/lib/python3.10/dist-packages (from qudida>=0.0.4->albumentations==1.3.1) (1.2.2)\n",
            "Requirement already satisfied: typing-extensions in /usr/local/lib/python3.10/dist-packages (from qudida>=0.0.4->albumentations==1.3.1) (4.7.1)\n",
            "Requirement already satisfied: opencv-python-headless>=4.0.1 in /usr/local/lib/python3.10/dist-packages (from qudida>=0.0.4->albumentations==1.3.1) (4.8.0.76)\n",
            "Requirement already satisfied: networkx>=2.2 in /usr/local/lib/python3.10/dist-packages (from scikit-image>=0.16.1->albumentations==1.3.1) (3.1)\n",
            "Requirement already satisfied: pillow!=7.1.0,!=7.1.1,!=8.3.0,>=6.1.0 in /usr/local/lib/python3.10/dist-packages (from scikit-image>=0.16.1->albumentations==1.3.1) (9.4.0)\n",
            "Requirement already satisfied: imageio>=2.4.1 in /usr/local/lib/python3.10/dist-packages (from scikit-image>=0.16.1->albumentations==1.3.1) (2.31.1)\n",
            "Requirement already satisfied: tifffile>=2019.7.26 in /usr/local/lib/python3.10/dist-packages (from scikit-image>=0.16.1->albumentations==1.3.1) (2023.8.12)\n",
            "Requirement already satisfied: PyWavelets>=1.1.1 in /usr/local/lib/python3.10/dist-packages (from scikit-image>=0.16.1->albumentations==1.3.1) (1.4.1)\n",
            "Requirement already satisfied: packaging>=20.0 in /usr/local/lib/python3.10/dist-packages (from scikit-image>=0.16.1->albumentations==1.3.1) (23.1)\n",
            "Requirement already satisfied: joblib>=1.1.1 in /usr/local/lib/python3.10/dist-packages (from scikit-learn>=0.19.1->qudida>=0.0.4->albumentations==1.3.1) (1.3.2)\n",
            "Requirement already satisfied: threadpoolctl>=2.0.0 in /usr/local/lib/python3.10/dist-packages (from scikit-learn>=0.19.1->qudida>=0.0.4->albumentations==1.3.1) (3.2.0)\n",
            "Collecting timm\n",
            "  Downloading timm-0.9.7-py3-none-any.whl (2.2 MB)\n",
            "\u001b[2K     \u001b[90m━━━━━━━━━━━━━━━━━━━━━━━━━━━━━━━━━━━━━━━━\u001b[0m \u001b[32m2.2/2.2 MB\u001b[0m \u001b[31m12.1 MB/s\u001b[0m eta \u001b[36m0:00:00\u001b[0m\n",
            "\u001b[?25hRequirement already satisfied: torch>=1.7 in /usr/local/lib/python3.10/dist-packages (from timm) (2.0.1+cu118)\n",
            "Requirement already satisfied: torchvision in /usr/local/lib/python3.10/dist-packages (from timm) (0.15.2+cu118)\n",
            "Requirement already satisfied: pyyaml in /usr/local/lib/python3.10/dist-packages (from timm) (6.0.1)\n",
            "Collecting huggingface-hub (from timm)\n",
            "  Downloading huggingface_hub-0.16.4-py3-none-any.whl (268 kB)\n",
            "\u001b[2K     \u001b[90m━━━━━━━━━━━━━━━━━━━━━━━━━━━━━━━━━━━━━━\u001b[0m \u001b[32m268.8/268.8 kB\u001b[0m \u001b[31m18.0 MB/s\u001b[0m eta \u001b[36m0:00:00\u001b[0m\n",
            "\u001b[?25hCollecting safetensors (from timm)\n",
            "  Downloading safetensors-0.3.3-cp310-cp310-manylinux_2_17_x86_64.manylinux2014_x86_64.whl (1.3 MB)\n",
            "\u001b[2K     \u001b[90m━━━━━━━━━━━━━━━━━━━━━━━━━━━━━━━━━━━━━━━━\u001b[0m \u001b[32m1.3/1.3 MB\u001b[0m \u001b[31m28.0 MB/s\u001b[0m eta \u001b[36m0:00:00\u001b[0m\n",
            "\u001b[?25hRequirement already satisfied: filelock in /usr/local/lib/python3.10/dist-packages (from torch>=1.7->timm) (3.12.2)\n",
            "Requirement already satisfied: typing-extensions in /usr/local/lib/python3.10/dist-packages (from torch>=1.7->timm) (4.7.1)\n",
            "Requirement already satisfied: sympy in /usr/local/lib/python3.10/dist-packages (from torch>=1.7->timm) (1.12)\n",
            "Requirement already satisfied: networkx in /usr/local/lib/python3.10/dist-packages (from torch>=1.7->timm) (3.1)\n",
            "Requirement already satisfied: jinja2 in /usr/local/lib/python3.10/dist-packages (from torch>=1.7->timm) (3.1.2)\n",
            "Requirement already satisfied: triton==2.0.0 in /usr/local/lib/python3.10/dist-packages (from torch>=1.7->timm) (2.0.0)\n",
            "Requirement already satisfied: cmake in /usr/local/lib/python3.10/dist-packages (from triton==2.0.0->torch>=1.7->timm) (3.27.2)\n",
            "Requirement already satisfied: lit in /usr/local/lib/python3.10/dist-packages (from triton==2.0.0->torch>=1.7->timm) (16.0.6)\n",
            "Requirement already satisfied: fsspec in /usr/local/lib/python3.10/dist-packages (from huggingface-hub->timm) (2023.6.0)\n",
            "Requirement already satisfied: requests in /usr/local/lib/python3.10/dist-packages (from huggingface-hub->timm) (2.31.0)\n",
            "Requirement already satisfied: tqdm>=4.42.1 in /usr/local/lib/python3.10/dist-packages (from huggingface-hub->timm) (4.66.1)\n",
            "Requirement already satisfied: packaging>=20.9 in /usr/local/lib/python3.10/dist-packages (from huggingface-hub->timm) (23.1)\n",
            "Requirement already satisfied: numpy in /usr/local/lib/python3.10/dist-packages (from torchvision->timm) (1.23.5)\n",
            "Requirement already satisfied: pillow!=8.3.*,>=5.3.0 in /usr/local/lib/python3.10/dist-packages (from torchvision->timm) (9.4.0)\n",
            "Requirement already satisfied: MarkupSafe>=2.0 in /usr/local/lib/python3.10/dist-packages (from jinja2->torch>=1.7->timm) (2.1.3)\n",
            "Requirement already satisfied: charset-normalizer<4,>=2 in /usr/local/lib/python3.10/dist-packages (from requests->huggingface-hub->timm) (3.2.0)\n",
            "Requirement already satisfied: idna<4,>=2.5 in /usr/local/lib/python3.10/dist-packages (from requests->huggingface-hub->timm) (3.4)\n",
            "Requirement already satisfied: urllib3<3,>=1.21.1 in /usr/local/lib/python3.10/dist-packages (from requests->huggingface-hub->timm) (2.0.4)\n",
            "Requirement already satisfied: certifi>=2017.4.17 in /usr/local/lib/python3.10/dist-packages (from requests->huggingface-hub->timm) (2023.7.22)\n",
            "Requirement already satisfied: mpmath>=0.19 in /usr/local/lib/python3.10/dist-packages (from sympy->torch>=1.7->timm) (1.3.0)\n",
            "Installing collected packages: safetensors, huggingface-hub, timm\n",
            "Successfully installed huggingface-hub-0.16.4 safetensors-0.3.3 timm-0.9.7\n",
            "Requirement already satisfied: opencv-contrib-python in /usr/local/lib/python3.10/dist-packages (4.8.0.76)\n",
            "Requirement already satisfied: numpy>=1.21.2 in /usr/local/lib/python3.10/dist-packages (from opencv-contrib-python) (1.23.5)\n"
          ]
        }
      ],
      "source": [
        "!git clone https://github.com/parth1620/Facial-Expression-Dataset.git\n",
        "!pip install -U git+https://github.com/albumentations-team/albumentations\n",
        "!pip install timm\n",
        "!pip install --upgrade opencv-contrib-python"
      ]
    },
    {
      "cell_type": "code",
      "source": [
        "import numpy as np\n",
        "import matplotlib.pyplot as plt\n",
        "import torch"
      ],
      "metadata": {
        "id": "NYsvUeybhTp8"
      },
      "execution_count": null,
      "outputs": []
    },
    {
      "cell_type": "code",
      "source": [
        "Image_train_folder='/content/Facial-Expression-Dataset/train'\n",
        "Valid_img_folder='/content/Facial-Expression-Dataset/validation'\n",
        "\n",
        "LR=0.001\n",
        "BATCH_SIZE=32\n",
        "EPOCHS=15\n",
        "\n",
        "DEVICE='cuda'\n",
        "MODEL_NAME='efficentnet_b0'"
      ],
      "metadata": {
        "id": "vQrjM7VPhVbW"
      },
      "execution_count": null,
      "outputs": []
    },
    {
      "cell_type": "code",
      "source": [
        "from torchvision.datasets import ImageFolder\n",
        "from torchvision import transforms as T"
      ],
      "metadata": {
        "id": "YR_k4ONKhXGP"
      },
      "execution_count": null,
      "outputs": []
    },
    {
      "cell_type": "code",
      "source": [
        "train_aug=T.Compose([T.RandomHorizontalFlip(p=0.5),T.RandomRotation(degrees=(-20,+20)),T.ToTensor()])\n",
        "valid_aug=T.Compose([T.ToTensor()])"
      ],
      "metadata": {
        "id": "kwyAhZ2ohZXs"
      },
      "execution_count": null,
      "outputs": []
    },
    {
      "cell_type": "code",
      "source": [
        "trainset=ImageFolder(Image_train_folder,transform=train_aug)\n",
        "validset=ImageFolder(Valid_img_folder,transform=valid_aug)"
      ],
      "metadata": {
        "id": "nHlDE0vyhavP"
      },
      "execution_count": null,
      "outputs": []
    },
    {
      "cell_type": "code",
      "source": [
        "print(f\"Total no. of examples in trainset : {len(trainset)}\")\n",
        "print(f\"Total no. of examples in validset : {len(validset)}\")"
      ],
      "metadata": {
        "colab": {
          "base_uri": "https://localhost:8080/"
        },
        "id": "H74m4QaVhcCO",
        "outputId": "a9e93b95-aeff-40b5-d4a7-4a02e3aca607"
      },
      "execution_count": null,
      "outputs": [
        {
          "output_type": "stream",
          "name": "stdout",
          "text": [
            "Total no. of examples in trainset : 28821\n",
            "Total no. of examples in validset : 7066\n"
          ]
        }
      ]
    },
    {
      "cell_type": "code",
      "source": [
        "print(trainset.class_to_idx)"
      ],
      "metadata": {
        "colab": {
          "base_uri": "https://localhost:8080/"
        },
        "id": "dmcAOUnOhddQ",
        "outputId": "f5d14c96-d525-41f1-adbe-cdd4038fb8ae"
      },
      "execution_count": null,
      "outputs": [
        {
          "output_type": "stream",
          "name": "stdout",
          "text": [
            "{'angry': 0, 'disgust': 1, 'fear': 2, 'happy': 3, 'neutral': 4, 'sad': 5, 'surprise': 6}\n"
          ]
        }
      ]
    },
    {
      "cell_type": "code",
      "source": [
        "image,label=trainset[35]\n",
        "plt.imshow(image.permute(1,2,0))\n",
        "plt.title(label)"
      ],
      "metadata": {
        "colab": {
          "base_uri": "https://localhost:8080/",
          "height": 470
        },
        "id": "OIGM9ZHRhfF6",
        "outputId": "202f9426-438b-437a-97e4-fc392929508c"
      },
      "execution_count": null,
      "outputs": [
        {
          "output_type": "execute_result",
          "data": {
            "text/plain": [
              "Text(0.5, 1.0, '0')"
            ]
          },
          "metadata": {},
          "execution_count": 9
        },
        {
          "output_type": "display_data",
          "data": {
            "text/plain": [
              "<Figure size 640x480 with 1 Axes>"
            ],
            "image/png": "[encoded data removed]"
          },
          "metadata": {}
        }
      ]
    },
    {
      "cell_type": "code",
      "source": [
        "from torch.utils.data import DataLoader\n"
      ],
      "metadata": {
        "id": "uendRVwBhgg4"
      },
      "execution_count": null,
      "outputs": []
    },
    {
      "cell_type": "code",
      "source": [
        "trainloader=DataLoader(trainset,batch_size=BATCH_SIZE,shuffle=True)\n",
        "validloader=DataLoader(validset,batch_size=BATCH_SIZE)"
      ],
      "metadata": {
        "id": "5wkI7Ls9hi3c"
      },
      "execution_count": null,
      "outputs": []
    },
    {
      "cell_type": "code",
      "source": [
        "print(f\"Total no. of batches in trainloader : {len(trainloader)}\")\n",
        "print(f\"Total no. of batches in validloader : {len(validloader)}\")"
      ],
      "metadata": {
        "colab": {
          "base_uri": "https://localhost:8080/"
        },
        "id": "Ef8kC3fHhkUE",
        "outputId": "76efb0c5-0c1e-4861-d467-594e6f469a5f"
      },
      "execution_count": null,
      "outputs": [
        {
          "output_type": "stream",
          "name": "stdout",
          "text": [
            "Total no. of batches in trainloader : 901\n",
            "Total no. of batches in validloader : 221\n"
          ]
        }
      ]
    },
    {
      "cell_type": "code",
      "source": [
        "for images,labels in trainloader:\n",
        "  break;\n",
        "\n",
        "print(f\"One image batch shape : {images.shape}\")\n",
        "print(f\"One label batch shape : {labels.shape}\")"
      ],
      "metadata": {
        "colab": {
          "base_uri": "https://localhost:8080/"
        },
        "id": "nBCTTnorhlmZ",
        "outputId": "eaac58b3-e83b-4871-8d25-41031532076f"
      },
      "execution_count": null,
      "outputs": [
        {
          "output_type": "stream",
          "name": "stdout",
          "text": [
            "One image batch shape : torch.Size([32, 3, 48, 48])\n",
            "One label batch shape : torch.Size([32])\n"
          ]
        }
      ]
    },
    {
      "cell_type": "code",
      "source": [
        "import timm\n",
        "from torch import nn"
      ],
      "metadata": {
        "id": "O_VswE6ThnZd"
      },
      "execution_count": null,
      "outputs": []
    },
    {
      "cell_type": "code",
      "source": [
        "class FaceModel(nn.Module):\n",
        "  def __init__(self):\n",
        "    super(FaceModel,self).__init__()\n",
        "\n",
        "    self.eff_net=timm.create_model('efficientnet_b0',pretrained=True,num_classes=7)\n",
        "  def forward(self,images,labels=None):\n",
        "    logits=self.eff_net(images)\n",
        "\n",
        "    if labels!=None:\n",
        "      loss =nn.CrossEntropyLoss()(logits,labels)\n",
        "      return logits,loss\n",
        "    return logits"
      ],
      "metadata": {
        "id": "fEY9_-tyhpQ6"
      },
      "execution_count": null,
      "outputs": []
    },
    {
      "cell_type": "code",
      "source": [
        "model = FaceModel()\n",
        "model.to(DEVICE);"
      ],
      "metadata": {
        "colab": {
          "base_uri": "https://localhost:8080/",
          "height": 49,
          "referenced_widgets": [
            "55e59fb282b94b93ac2e9978d6d708c1",
            "95c444a403c94e3d80f317b0a74b6ad1",
            "fb8fd9a684f44e25a8b38fb7e626bf35",
            "5c8de58d9d9a4ca3b8bf0094088b78e5",
            "eec623dfe4bf469dbaa67effd257a02c",
            "c9b514d8bc19428e87ecc6239ec5d9df",
            "3120f44e42e347bd931782022b5251f2",
            "f80f24ed5a574baba90c16f9ffaba9b4",
            "3043b97e5ea84717aa642151806827a0",
            "5da0de2e95b2478f92cee0e1a7c11fc4",
            "a65e9c2cae7e4a8f825917e7f883ee4b"
          ]
        },
        "id": "yFrnnh7bhqh8",
        "outputId": "365c4b8e-d85d-44a5-e166-5d6e7b0d96e2"
      },
      "execution_count": null,
      "outputs": [
        {
          "output_type": "display_data",
          "data": {
            "text/plain": [
              "Downloading model.safetensors:   0%|          | 0.00/21.4M [00:00<?, ?B/s]"
            ],
            "application/vnd.jupyter.widget-view+json": {
              "version_major": 2,
              "version_minor": 0,
              "model_id": "55e59fb282b94b93ac2e9978d6d708c1"
            }
          },
          "metadata": {}
        }
      ]
    },
    {
      "cell_type": "code",
      "source": [
        "from tqdm import tqdm\n"
      ],
      "metadata": {
        "id": "3QYaiE0ahrqg"
      },
      "execution_count": null,
      "outputs": []
    },
    {
      "cell_type": "code",
      "source": [
        "def multiclass_accuracy(y_pred,y_true):\n",
        "    top_p,top_class = y_pred.topk(1,dim = 1)\n",
        "    equals = top_class == y_true.view(*top_class.shape)\n",
        "    return torch.mean(equals.type(torch.FloatTensor))"
      ],
      "metadata": {
        "id": "70z-8M8Dht2j"
      },
      "execution_count": null,
      "outputs": []
    },
    {
      "cell_type": "code",
      "source": [
        "def train_fn(model,dataloader,optimizer,current_epo):\n",
        "  model.train()\n",
        "  total_loss=0.0\n",
        "  total_acc=0.0\n",
        "  tk=tqdm(dataloader,desc=\"EPOCH\"+\"[TRAIN]\"+str(current_epo+1)+\"/\"+str(EPOCHS))\n",
        "\n",
        "  for t,data in enumerate(tk):\n",
        "    images,labels=data\n",
        "    images,labels=images.to(DEVICE),labels.to(DEVICE)\n",
        "\n",
        "    optimizer.zero_grad()\n",
        "    logits,loss=model(images,labels)\n",
        "    loss.backward()\n",
        "    optimizer.step()\n",
        "\n",
        "    total_loss +=loss.item()\n",
        "    total_acc+=multiclass_accuracy(logits,labels)\n",
        "    tk.set_postfix({'loss':'%6f' %float(total_loss/(t+1)),'acc':'%6f' %float(total_acc/(t+1))})\n",
        "\n",
        "  return total_loss/len(dataloader),total_acc/ len(dataloader)"
      ],
      "metadata": {
        "id": "wXuiYgLdhvIv"
      },
      "execution_count": null,
      "outputs": []
    },
    {
      "cell_type": "code",
      "source": [
        "def eval_fn(model,dataloader,current_epo):\n",
        "  model.eval()\n",
        "  total_loss=0.0\n",
        "  total_acc=0.0\n",
        "  tk=tqdm(dataloader,desc=\"EPOCH\"+\"[VALID]\"+str(current_epo+1)+\"/\"+str(EPOCHS))\n",
        "\n",
        "  for t,data in enumerate(tk):\n",
        "    images,labels=data\n",
        "    images,labels=images.to(DEVICE),labels.to(DEVICE)\n",
        "\n",
        "\n",
        "    logits,loss=model(images,labels)\n",
        "\n",
        "\n",
        "\n",
        "    total_loss +=loss.item()\n",
        "    total_acc+=multiclass_accuracy(logits,labels)\n",
        "    tk.set_postfix({'loss':'%6f' %float(total_loss/(t+1)),'acc':'%6f' %float(total_acc/(t+1))})\n",
        "  return total_loss/len(dataloader),total_acc/  len(dataloader)"
      ],
      "metadata": {
        "id": "adyJhAachw7C"
      },
      "execution_count": null,
      "outputs": []
    },
    {
      "cell_type": "code",
      "source": [
        "optimizer=torch.optim.Adam(model.parameters(),lr=LR)"
      ],
      "metadata": {
        "id": "JcL5Y0JwhyWB"
      },
      "execution_count": null,
      "outputs": []
    },
    {
      "cell_type": "code",
      "source": [
        "best_valid_loss=np.Inf\n",
        "\n",
        "for i in range(EPOCHS):\n",
        "  train_loss,train_acc=train_fn( model,trainloader,optimizer,i)\n",
        "  valid_loss,valid_acc=eval_fn(model,validloader,i)\n",
        "\n",
        "  if valid_loss<best_valid_loss:\n",
        "    torch.save(model.state_dict(),'best-weights.pt')\n",
        "    print(\"SAVED-BEST-WEIGHTS\")\n",
        "    best_valid_loss=valid_loss"
      ],
      "metadata": {
        "colab": {
          "base_uri": "https://localhost:8080/"
        },
        "id": "39zWkOzDhz3Y",
        "outputId": "8c16ef4e-de85-4b3f-d13c-181e68c81179"
      },
      "execution_count": null,
      "outputs": [
        {
          "output_type": "stream",
          "name": "stderr",
          "text": [
            "EPOCH[TRAIN]1/15: 100%|██████████| 901/901 [00:46<00:00, 19.29it/s, loss=1.864441, acc=0.375182]\n",
            "EPOCH[VALID]1/15: 100%|██████████| 221/221 [00:06<00:00, 35.66it/s, loss=1.603758, acc=0.504906]\n"
          ]
        },
        {
          "output_type": "stream",
          "name": "stdout",
          "text": [
            "SAVED-BEST-WEIGHTS\n"
          ]
        },
        {
          "output_type": "stream",
          "name": "stderr",
          "text": [
            "EPOCH[TRAIN]2/15: 100%|██████████| 901/901 [00:44<00:00, 20.15it/s, loss=1.294915, acc=0.506706]\n",
            "EPOCH[VALID]2/15: 100%|██████████| 221/221 [00:05<00:00, 39.08it/s, loss=1.198721, acc=0.555745]\n"
          ]
        },
        {
          "output_type": "stream",
          "name": "stdout",
          "text": [
            "SAVED-BEST-WEIGHTS\n"
          ]
        },
        {
          "output_type": "stream",
          "name": "stderr",
          "text": [
            "EPOCH[TRAIN]3/15: 100%|██████████| 901/901 [00:44<00:00, 20.26it/s, loss=1.198266, acc=0.545564]\n",
            "EPOCH[VALID]3/15: 100%|██████████| 221/221 [00:06<00:00, 36.51it/s, loss=1.129666, acc=0.579925]\n"
          ]
        },
        {
          "output_type": "stream",
          "name": "stdout",
          "text": [
            "SAVED-BEST-WEIGHTS\n"
          ]
        },
        {
          "output_type": "stream",
          "name": "stderr",
          "text": [
            "EPOCH[TRAIN]4/15: 100%|██████████| 901/901 [00:44<00:00, 20.37it/s, loss=1.138132, acc=0.569447]\n",
            "EPOCH[VALID]4/15: 100%|██████████| 221/221 [00:06<00:00, 36.35it/s, loss=1.081823, acc=0.590171]\n"
          ]
        },
        {
          "output_type": "stream",
          "name": "stdout",
          "text": [
            "SAVED-BEST-WEIGHTS\n"
          ]
        },
        {
          "output_type": "stream",
          "name": "stderr",
          "text": [
            "EPOCH[TRAIN]5/15: 100%|██████████| 901/901 [00:45<00:00, 19.96it/s, loss=1.101152, acc=0.584410]\n",
            "EPOCH[VALID]5/15: 100%|██████████| 221/221 [00:05<00:00, 38.93it/s, loss=1.067358, acc=0.601364]\n"
          ]
        },
        {
          "output_type": "stream",
          "name": "stdout",
          "text": [
            "SAVED-BEST-WEIGHTS\n"
          ]
        },
        {
          "output_type": "stream",
          "name": "stderr",
          "text": [
            "EPOCH[TRAIN]6/15: 100%|██████████| 901/901 [00:44<00:00, 20.10it/s, loss=1.073521, acc=0.595213]\n",
            "EPOCH[VALID]6/15: 100%|██████████| 221/221 [00:05<00:00, 37.13it/s, loss=1.068646, acc=0.602071]\n",
            "EPOCH[TRAIN]7/15: 100%|██████████| 901/901 [00:44<00:00, 20.30it/s, loss=1.044711, acc=0.610392]\n",
            "EPOCH[VALID]7/15: 100%|██████████| 221/221 [00:06<00:00, 36.45it/s, loss=1.087737, acc=0.610925]\n",
            "EPOCH[TRAIN]8/15: 100%|██████████| 901/901 [00:44<00:00, 20.15it/s, loss=1.017551, acc=0.618628]\n",
            "EPOCH[VALID]8/15: 100%|██████████| 221/221 [00:05<00:00, 39.17it/s, loss=1.007277, acc=0.618028]\n"
          ]
        },
        {
          "output_type": "stream",
          "name": "stdout",
          "text": [
            "SAVED-BEST-WEIGHTS\n"
          ]
        },
        {
          "output_type": "stream",
          "name": "stderr",
          "text": [
            "EPOCH[TRAIN]9/15: 100%|██████████| 901/901 [00:44<00:00, 20.41it/s, loss=0.984826, acc=0.632295]\n",
            "EPOCH[VALID]9/15: 100%|██████████| 221/221 [00:05<00:00, 40.21it/s, loss=1.037281, acc=0.613916]\n",
            "EPOCH[TRAIN]10/15: 100%|██████████| 901/901 [00:44<00:00, 20.33it/s, loss=0.954394, acc=0.642666]\n",
            "EPOCH[VALID]10/15: 100%|██████████| 221/221 [00:06<00:00, 36.30it/s, loss=1.051423, acc=0.617408]\n",
            "EPOCH[TRAIN]11/15: 100%|██████████| 901/901 [00:44<00:00, 20.41it/s, loss=0.929177, acc=0.653328]\n",
            "EPOCH[VALID]11/15: 100%|██████████| 221/221 [00:05<00:00, 36.89it/s, loss=1.009902, acc=0.622085]\n",
            "EPOCH[TRAIN]12/15: 100%|██████████| 901/901 [00:44<00:00, 20.16it/s, loss=0.894017, acc=0.667035]\n",
            "EPOCH[VALID]12/15: 100%|██████████| 221/221 [00:05<00:00, 39.54it/s, loss=0.981660, acc=0.642980]\n"
          ]
        },
        {
          "output_type": "stream",
          "name": "stdout",
          "text": [
            "SAVED-BEST-WEIGHTS\n"
          ]
        },
        {
          "output_type": "stream",
          "name": "stderr",
          "text": [
            "EPOCH[TRAIN]13/15: 100%|██████████| 901/901 [00:45<00:00, 19.92it/s, loss=0.868116, acc=0.677433]\n",
            "EPOCH[VALID]13/15: 100%|██████████| 221/221 [00:06<00:00, 36.70it/s, loss=1.024677, acc=0.623858]\n",
            "EPOCH[TRAIN]14/15: 100%|██████████| 901/901 [00:43<00:00, 20.57it/s, loss=0.840918, acc=0.687701]\n",
            "EPOCH[VALID]14/15: 100%|██████████| 221/221 [00:06<00:00, 36.24it/s, loss=0.984075, acc=0.645667]\n",
            "EPOCH[TRAIN]15/15: 100%|██████████| 901/901 [00:44<00:00, 20.25it/s, loss=0.809143, acc=0.701732]\n",
            "EPOCH[VALID]15/15: 100%|██████████| 221/221 [00:05<00:00, 40.09it/s, loss=1.023801, acc=0.628600]\n"
          ]
        }
      ]
    },
    {
      "cell_type": "code",
      "source": [
        "def view_classify(img,ps):\n",
        "\n",
        "    classes = ['angry', 'disgust', 'fear', 'happy', 'neutral', 'sad', 'surprise']\n",
        "\n",
        "    ps = ps.data.cpu().numpy().squeeze()\n",
        "    img = img.numpy().transpose(1,2,0)\n",
        "\n",
        "    fig, (ax1, ax2) = plt.subplots(figsize=(5,9), ncols=2)\n",
        "    ax1.imshow(img)\n",
        "    ax1.axis('off')\n",
        "    ax2.barh(classes,ps)\n",
        "    ax2.set_aspect(0.1)\n",
        "    ax2.set_yticks(classes)\n",
        "    ax2.set_yticklabels(classes)\n",
        "    ax2.set_title('Class Probability')\n",
        "    ax2.set_xlim(0, 1.1)\n",
        "\n",
        "    plt.tight_layout()\n",
        "\n",
        "    return None"
      ],
      "metadata": {
        "id": "wtHCT8Yhh1Ur"
      },
      "execution_count": null,
      "outputs": []
    },
    {
      "cell_type": "code",
      "source": [
        "image, label = validset[98]\n",
        "image = image.unsqueeze(0)\n",
        "\n",
        "logits = model(image.to(DEVICE))\n",
        "probs = nn.Softmax(dim = 1)(logits)\n",
        "\n",
        "view_classify(image.squeeze(), probs)"
      ],
      "metadata": {
        "id": "k4hmmNDLh3Ow",
        "colab": {
          "base_uri": "https://localhost:8080/",
          "height": 231
        },
        "outputId": "a7921732-6c07-4ff5-d41f-24b5f606d2da"
      },
      "execution_count": null,
      "outputs": [
        {
          "output_type": "display_data",
          "data": {
            "text/plain": [
              "<Figure size 500x900 with 2 Axes>"
            ],
            "image/png": "[encoded data removed]"
          },
          "metadata": {}
        }
      ]
    },
    {
      "cell_type": "code",
      "source": [],
      "metadata": {
        "id": "GsNOT0ginae1"
      },
      "execution_count": null,
      "outputs": []
    }
  ]
}